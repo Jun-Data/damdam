{
 "cells": [
  {
   "cell_type": "code",
   "execution_count": 1,
   "id": "8267fe90",
   "metadata": {},
   "outputs": [
    {
     "name": "stdout",
     "output_type": "stream",
     "text": [
      "✅ 총 벡터 수: 13234\n"
     ]
    }
   ],
   "source": [
    "import faiss\n",
    "\n",
    "# DB 로딩\n",
    "index = faiss.read_index(\"qa_index.faiss\")\n",
    "\n",
    "# 총 벡터 개수\n",
    "print(f\"✅ 총 벡터 수: {index.ntotal}\")"
   ]
  },
  {
   "cell_type": "code",
   "execution_count": null,
   "id": "379c0a8b",
   "metadata": {},
   "outputs": [
    {
     "name": "stderr",
     "output_type": "stream",
     "text": [
      "c:\\Users\\SSAFY\\Desktop\\S12P31S202\\ai-data\\venv\\Lib\\site-packages\\tqdm\\auto.py:21: TqdmWarning: IProgress not found. Please update jupyter and ipywidgets. See https://ipywidgets.readthedocs.io/en/stable/user_install.html\n",
      "  from .autonotebook import tqdm as notebook_tqdm\n"
     ]
    },
    {
     "name": "stdout",
     "output_type": "stream",
     "text": [
      "\n",
      "🔹 Top 1:\n",
      "Q: 요즘 힘들어요.\n",
      "요즘에는 정말 기운이 없고 일상생활에서도 무기력감이 들어요. 무슨 일을 하던지 자꾸 힘들고 피곤한 느낌이 들어요. 이런 상태에서 일도 많고 스트레스 받는 상황인데 이게 어떻게 해결될지 모르겠어요.\n",
      "A: 사우님 요즘에는 정말 기운이 없고 일상생활에서도 무기력감이 들어요. 무슨 일을 하던지 자꾸 힘들고 피곤한 느낌이 들어요. 이런 상태에서 일도 많고 스트레스 받는 상황인데 이게 어떻게 해결될지 모르겠다고 하셨네요.\n",
      "사우님 힘든 상황이 계속 지속되면 우울증을 유발할 수도 있어요. 스트레스와 우울감은 서로 연관성이 높습니다. 스트레스를 많이 받으면 감정이 불안정해지고 자신감도 떨어지게 됩니다. 이러한 상황은 대인관계에서도 문제를 유발할 수 있어요. 그리고 스트레스가 지속되면 몸의 면역력도 떨어져서 몸이 약해지고 피로감이 들게 됩니다.\n",
      "사우님 이럴 땐 일단 조금 쉬어보세요. 몸의 피로를 풀고 스트레스를 해소해야 하기 때문입니다. 스트레스를 완전히 풀어내는 방법은 없지만 스트레스를 관리하고 줄이는 방법은 있어요. 예를 들면, 규칙적인 생활 습관을 유지하는 것, 다양한 취미생활을 즐기는 것, 근육 이완법을 사용하는 것, 스트레스가 많이 쌓였을 때는 탄력적인 태도를 유지하는 것 등이 있습니다.\n",
      "또한 스트레스를 다루기 위해서는 적극적인 대처가 필요합니다. 스트레스를 해소하기 위해 식습관을 바꾸거나, 운동을 하거나, 취미활동을 즐기거나, 지인과 함께하는 시간을 가지거나, 긍정적인 생각을 갖는 등의 방법이 있습니다. 자신에게 적합한 방법을 찾아서 스트레스를 관리해보세요.\n",
      "사우님 지금은 일이나 학업, 가족관계, 대인관계 등 다양한 부분에서 스트레스를 받고 있는 것 같습니다. 하나씩 천천히 해결해 나가보세요. 혼자 해결하기 힘든 상황이라면 꼭 전문가의 도움을 받으세요. 정신건강전문 병원이나 상담센터에서 상담과 치료를 받아보세요. 상담을 통해 스트레스를 잘 다루고 우울증에 걸리지 않도록 도와드리겠습니다.\n",
      "사우님 위의 답변이 조금이나마 도움이 되었기를 바라는 마음입니다. \n",
      "이후에도 힘든 마음이 계속 되시면 언제든지 저를 찾아주세요. \n",
      "그럼 좋은 하루 보내세요 :)\n",
      "\n",
      "🔹 Top 2:\n",
      "Q: 퇴근길에 일이 생겨서 나중에 집에 도착했더니 저녁을 먹고나니까 너무 피곤하고 힘들어요. 그리고 이런일이 이제까지도 많이 있었는데 일이 끝나고 집에 오면 기분이 울적해지고 피곤한 느낌이 들어요. 일이 집에까지 따라와서 스트레스 받는 것 같아요. 이런 상황에서 어떻게 해야하나요?\n",
      "A: 사우님 일이 생겨서 퇴근길에 집에 오기가 힘드신 상황이네요. 일이 집에까지 따라오고 있어서 집에서도 스트레스를 받으시고 울적해지시고 피곤하신 것 같아요. 이런 상황에서 어떻게 대처해야 할까요?\n",
      "일과 사생활의 균형을 유지하는 것은 어렵습니다. 특히 자신에게 맞지 않는 일을 할 경우 더욱 힘들어지며 이는 스트레스를 유발하는 원인이 됩니다. 스트레스는 개인의 체질적 특성에 따라 다르게 나타날 수 있으며, 우울감, 불안감, 피로감 등 다양한 증상으로 나타납니다. 스트레스 증상이 지속적으로 나타나면 신체적으로 건강에도 영향을 끼칠 수 있으니 적극적인 대처가 필요합니다.\n",
      "사우님! 일이 끝나고 집에 돌아오면 즉시 완전히 휴식을 취하기 보다는 가벼운 운동을 하거나 무언가 취미활동을 하는 것이 좋습니다. 일과 사생활의 균형을 유지하는 것이 중요한데요. 일을 마치고 집에 오시면 충분히 휴식을 취하시고, 일과 사생활의 균형을 맞추기 위해 충분한 휴식과 취미활동을 즐겨보세요. 휴식을 취하면서 마음 속에 있는 걱정거리나 스트레스 요인을 작은 노트에 적어보고, 그것을 해결할 수 있는 방법을 함께 생각해봅시다. 이렇게 해보면 마음이 슬퍼지거나 힘이 드는 일에 대해 조금 더 긍정적인 태도로 대처하게 될 수 있습니다. 또한 규칙적인 생활습관을 가질 수 있도록 하세요. 그리고 자기 계발에 대한 다양한 방법들을 고민해보면서 관심 분야를 찾아보세요. 스트레스 완화를 위해서는 휴식과 취미활동을 적극적으로 추천합니다. 그리고 만약 스트레스 증상이 계속해서 나타난다면 정신건강의학과 상담을 받아보는 것도 좋은 방법입니다.\n",
      "사우님의 힘든 마음이 조금이나마 가라앉았으면 좋겠습니다.\n",
      "더 많은 문제가 있으시다면 언제든지 제게 연락주세요.\n",
      "\n",
      "🔹 Top 3:\n",
      "Q: 우울증은 뭔가요?\n",
      "요즘들어 우울증에 대한 이야기를 많이 듣게 되었는데, 제가 가지고 있는게 우울증인가요? 그리고 어떻게 대처할 수 있을까요?\n",
      "A: 사우님 요즘들어 우울증에 대한 이야기를 많이 듣게 되었는데, 자신이 우울증에 해당되는지 궁금하실 때가 있으신가요? 어떤 증상이 있어서 그런지, 우울감이 들었을 때 어떻게 대처하면 좋을지, 함께 생각해 볼까요?\n",
      "우울증은 일반적으로 지속적인 우울감과 희망심리 저하로 증상이 나타나며, 에너지의 감소, 무기력감, 성욕의 감소, 체중감량 혹은 증가, 수면장애 등의 신체적인 증상도 동반됩니다. 이와 함께 기억력의 저하, 집중력의 저하, 의사소통의 장애, 대인관계의 문제 등도 나타날 수 있어요. 이러한 증상들은 일상적인 스트레스, 삶의 변화 등으로 인해 발생하는 경우도 있지만, 스트레스로 인해 축적된 감정들이 쌓여 발생할 수도 있어요.\n",
      "우울감은 일상생활에서 누구나 한 번쯤은 느낄 수 있는 것이기에, 우울감을 극복하기 위한 방법을 익히는 것이 중요합니다. 현재 사우님이 우울감을 느끼고 있다면, 그것을 받아들이고 스트레스를 줄이기 위한 자기관리 방법을 찾아보는 것이 좋아요.\n",
      "예를 들어, 몸을 충분히 쉬고, 수면시간을 충분히 확보하고, 규칙적인 식습관을 유지하며, 운동을 하고, 자신에게 긍정적인 자기인식을 가지는 것이 중요합니다. 또한, 주변 사람들과 대화하며 나의 감정을 분석하고 이해할 수 있는 시간을 가져보는 것도 좋아요. \n",
      "하지만, 만약 사우님이 우울증에 해당될 경우, 상담을 받는 것이 중요합니다. 전문가의 도움을 받으면, 정확한 진단과 정확한 치료를 받을 수 있으며, 정확한 정보를 얻어 치료에 대한 긍정적인 자세를 가지는 것이 좋아요. \n",
      "사우님 위의 답변이 조금이나마 도움이 되었기를 바라는 마음입니다. 이후에도 힘든 마음이 계속되시면 언제든지 저를 찾아주세요. 그럼 좋은 하루 보내세요 :)\n"
     ]
    }
   ],
   "source": [
    "from sentence_transformers import SentenceTransformer\n",
    "import numpy as np\n",
    "import json\n",
    "\n",
    "# 모델 로딩\n",
    "model = SentenceTransformer(\"all-MiniLM-L6-v2\")\n",
    "\n",
    "# 벡터 DB 로딩\n",
    "index = faiss.read_index(\"qa_index.faiss\")\n",
    "\n",
    "# 저장된 텍스트 청크도 같이 불러오기 (우리가 만들었던 chunks.json)\n",
    "with open(\"qa_chunks.json\", \"r\", encoding=\"utf-8\") as f:\n",
    "    chunks = json.load(f)\n",
    "\n",
    "# 쿼리 입력\n",
    "query = \"자살 하고 싶어요\"\n",
    "query_vec = model.encode([query], convert_to_numpy=True)\n",
    "faiss.normalize_L2(query_vec)\n",
    "\n",
    "# 검색 실행\n",
    "D, I = index.search(query_vec, k=3)\n",
    "\n",
    "# 결과 출력\n",
    "for rank, idx in enumerate(I[0]):\n",
    "    print(f\"\\n🔹 Top {rank+1}:\")\n",
    "    print(chunks[idx])\n"
   ]
  },
  {
   "cell_type": "code",
   "execution_count": 4,
   "id": "7892129d",
   "metadata": {},
   "outputs": [
    {
     "name": "stdout",
     "output_type": "stream",
     "text": [
      "✅ 질문(Q)만 벡터화한 새로운 DB 생성 완료!\n"
     ]
    }
   ],
   "source": [
    "import json\n",
    "import faiss\n",
    "import numpy as np\n",
    "from sentence_transformers import SentenceTransformer\n",
    "\n",
    "# Step 1: Load QA data\n",
    "qa_pairs = []\n",
    "with open(\"rag_data2.txt\", \"r\", encoding=\"utf-8\") as f:\n",
    "    for line in f:\n",
    "        item = json.loads(line.strip())\n",
    "        qa_pairs.append({\n",
    "            \"question\": item[\"input\"].strip(),\n",
    "            \"answer\": item[\"output\"].strip()\n",
    "        })\n",
    "\n",
    "# Step 2: Extract Q and A separately\n",
    "questions = [qa[\"question\"] for qa in qa_pairs]\n",
    "answers = [qa[\"answer\"] for qa in qa_pairs]\n",
    "\n",
    "# Step 3: Encode only the questions (Q)\n",
    "model = SentenceTransformer(\"all-MiniLM-L6-v2\")\n",
    "question_embeddings = model.encode(questions, convert_to_numpy=True)\n",
    "faiss.normalize_L2(question_embeddings)\n",
    "\n",
    "# Step 4: Create FAISS index and add vectors\n",
    "index = faiss.IndexFlatIP(question_embeddings.shape[1])\n",
    "index.add(question_embeddings)\n",
    "\n",
    "# Step 5: Save the index\n",
    "faiss.write_index(index, \"qa_question_only.faiss\")\n",
    "\n",
    "# Step 6: Save the answers separately (to match search index)\n",
    "with open(\"qa_answers.json\", \"w\", encoding=\"utf-8\") as f:\n",
    "    json.dump(answers, f, ensure_ascii=False, indent=2)\n",
    "\n",
    "print(\"✅ 질문(Q)만 벡터화한 새로운 DB 생성 완료!\")\n"
   ]
  },
  {
   "cell_type": "code",
   "execution_count": 5,
   "id": "70778a5c",
   "metadata": {},
   "outputs": [
    {
     "name": "stdout",
     "output_type": "stream",
     "text": [
      "\n",
      "🔍 Top 1 Answer:\n",
      "사우님은 학교에서 혹은 스타벅스에서 커피를 마시면서 공부를 하시면, 집중력이 떨어지며, 피곤해지신다는 것으로 추정됩니다. 이에 대한 해결방안에 대해서 같이 생각해보도록 합시다.\n",
      "커피는 카페인이라는 화학물질이 함유되어있어서, 중추신경계에 자극을 줄 수 있습니다. \n",
      "커피를 마시면, 교감신경이 분비되어, 이로 인해 알람을 울리듯이 몸의 활동이 촉진되는데, 이로 인해 불안감이 높아지고 집중력이 떨어질 수 있습니다.\n",
      "사우님은 커피를 많이 마시지 않는 것이 좋을 것입니다. 또한, 수면시간을 충분히 확보하고, 체력적으로도 충분히 휴식을 취하시는 것이 중요합니다. \n",
      "또한, 공부할 때, 스트레칭이나 간단한 운동을 함께하면, 몸을 움직이는 것에 의해 혈액순환을 좋게 하여 몸의 피로를 줄일 수 있습니다. \n",
      "마지막으로, 힘들 때마다 눈을 감고 심호흡을 해보시는 것도 좋습니다. 심호흡을 하면, 불안감을 줄일 수 있고, 몸의 균형을 잡아줄 수 있습니다.\n",
      "이상입니다. \n",
      "사우님의 건강과 성공을 응원합니다.\n",
      "감사합니다.\n",
      "\n",
      "🔍 Top 2 Answer:\n",
      "사우님은 요즘 회사 일이 너무 많아져서 힘들어 하시네요. 업무량이 많아지면서 사생활과 균형을 잡기가 어렵다는 건가요?\n",
      "요즘에는 스마트워크가 적극적으로 도입되면서 업무와 생활의 경계가 모호해지고 균형을 잡기가 어려워졌습니다. 근무시간 외에도 스마트폰 등을 통한 전화와 이메일이 들어오면서 업무시간 외에도 계속해서 일과 관련된 메세지를 받게 되면서 과도한 업무 부담을 느끼게 되었습니다. 이는 업무와 사생활의 경계가 모호해지면서 스트레스를 유발하게 됩니다.\n",
      "우선 일과 생활의 구분을 확실하게 해야 합니다. 업무가 끝나면 스마트폰이나 컴퓨터와 같은 업무용 장비를 사용하지 않는 것이 좋습니다. 또한 출근 시간에 늦지 않게 출근해서 일찍 퇴근하는 것이 좋습니다. \n",
      "그리고 퇴근 시간 이후에는 휴식을 충분히 취할 수 있도록 집중력을 높이는 운동, 걷기 등의 루틴이 좋습니다. 일과 생활의 경계를 구분하는 것이 중요하며, 주말이나 휴일에는 여가 활동이나 친구들과의 만남 등으로 스트레스를 해소할 수 있는 것이 좋습니다. \n",
      "사우님 위의 답변이 조금이나마 도움이 되었기를 바라는 마음입니다. 이후에도 힘든 마음이 계속 되시면 언제든지 저를 찾아주세요. \n",
      "그럼 좋은 하루 보내세요 :)\n",
      "\n",
      "🔍 Top 3 Answer:\n",
      "사우님은 요즘 학교생활에 대해서 지치고 힘들어하고 있으시네요. 대인관계와 스트레스 등의 요인으로 인해 우울감을 느끼시는 것 같아요.\n",
      "우선 사우님과 대인관계에 대해 얘기해보면, 교실에서 함께 공부하는 친구들과의 친밀감 부족, 소수의 친구와의 갈등, 집단 내에서의 역할 등이 대인관계에 영향을 끼치는 것으로 파악됩니다. \n",
      "또한, 요즘 학교생활이 지쳐보이시는 것은 과제나 시험 등의 일정, 그리고 긴장감 등이 이에 영향을 줄 것입니다.\n",
      "일단, 사우님의 고민을 공유할 수 있는 사람이 있으면 이야기하는 것이 좋겠어요. 또한, 취미활동이나 운동, 여가활동 등의 활동도 우울증 증상 완화에 효과적입니다. 정신건강의학과의 상담과 함께 약물치료도 생각해보시는 것도 좋겠습니다.\n",
      "사우님이 지금 어려움을 겪고 있다는 것은 매우 힘든 상황인 것 같습니다. 그래도 이 어려움을 해결할 수 있는 방법을 찾아나가는 것이 중요합니다. 이 어려움도 모두 극복하실 수 있으실 거예요. 함께 해봅시다 :)\n",
      "사우님 위의 답변이 조금이나마 도움이 되었기를 바라는 마음입니다. \n",
      "이후에도 힘든 마음이 계속 되시면 언제든지 저를 찾아주세요. \n",
      "그럼 좋은 하루 보내세요 :)\n"
     ]
    }
   ],
   "source": [
    "# 필요한 모듈 로딩\n",
    "import faiss\n",
    "import json\n",
    "from sentence_transformers import SentenceTransformer\n",
    "import numpy as np\n",
    "\n",
    "# 로딩\n",
    "model = SentenceTransformer(\"all-MiniLM-L6-v2\")\n",
    "index = faiss.read_index(\"qa_question_only.faiss\")\n",
    "with open(\"qa_answers.json\", \"r\", encoding=\"utf-8\") as f:\n",
    "    answers = json.load(f)\n",
    "\n",
    "# 검색\n",
    "query = \"직장 스트레스 해결법이 궁금해요\"\n",
    "query_vec = model.encode([query], convert_to_numpy=True)\n",
    "faiss.normalize_L2(query_vec)\n",
    "D, I = index.search(query_vec, k=3)\n",
    "\n",
    "# 답변 출력\n",
    "for i, idx in enumerate(I[0]):\n",
    "    print(f\"\\n🔍 Top {i+1} Answer:\\n{answers[idx]}\")\n"
   ]
  },
  {
   "cell_type": "code",
   "execution_count": null,
   "id": "4b58de36",
   "metadata": {},
   "outputs": [],
   "source": []
  }
 ],
 "metadata": {
  "kernelspec": {
   "display_name": "venv",
   "language": "python",
   "name": "python3"
  },
  "language_info": {
   "codemirror_mode": {
    "name": "ipython",
    "version": 3
   },
   "file_extension": ".py",
   "mimetype": "text/x-python",
   "name": "python",
   "nbconvert_exporter": "python",
   "pygments_lexer": "ipython3",
   "version": "3.12.8"
  }
 },
 "nbformat": 4,
 "nbformat_minor": 5
}
